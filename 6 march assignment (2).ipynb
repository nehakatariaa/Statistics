{
 "cells": [
  {
   "cell_type": "markdown",
   "id": "540b23a8-aa19-4fe3-a9f5-d2e7e5df514e",
   "metadata": {},
   "source": [
    "Q1. What is Statistics?"
   ]
  },
  {
   "cell_type": "raw",
   "id": "66e33d91-dbf3-44ad-ae9f-57963c971814",
   "metadata": {},
   "source": [
    "ANS:\n",
    "Statistics is the science concerned with developing and studying methods for collecting, analyzing, interpreting and presenting empirical data."
   ]
  },
  {
   "cell_type": "markdown",
   "id": "10bbde66-707d-49b3-8852-f4839e3cacb5",
   "metadata": {},
   "source": [
    "Q2. Define the different types of statistics and give an example of when each type might be used."
   ]
  },
  {
   "cell_type": "raw",
   "id": "ca42b734-6cfe-439a-b679-cb1fa9e5e175",
   "metadata": {},
   "source": [
    "ANS: \n",
    "There are 2 types of Statistics:\n",
    "A) Descriptive. B) Inferential\n",
    "    \n",
    "A) Descriptive Statistics: Oraganisisng and summarising data\n",
    "i) Measure of Centeral Tendency\n",
    "mean, median, mode\n",
    "\n",
    "ii) Measure of Disperson\n",
    "standard daviation and variance\n",
    "\n",
    "iii) Distribution of Data\n",
    "PDF, PMF, Histogram, Box plot\n",
    "\n",
    "B) Inferential Statistics: Using data which we have measured to get an conclusion form other related data\n",
    "Population : The main data\n",
    "Sample : The subset of the data"
   ]
  },
  {
   "cell_type": "markdown",
   "id": "c2903e20-e523-4c0d-97c8-f9659933d647",
   "metadata": {},
   "source": [
    "Q3. What are the different types of data and how do they differ from each other? Provide an example of\n",
    "each type of data."
   ]
  },
  {
   "cell_type": "raw",
   "id": "19b29135-c7a6-420e-a854-f339b3e0b450",
   "metadata": {},
   "source": [
    "ANS: \n",
    "Data can be divied in to 2 main categories:\n",
    "\n",
    "A) Quantitative : Numbers\n",
    "\n",
    "i) Descrete: The whole number\n",
    "eg- Age of the students, Total number of students in class\n",
    "\n",
    "ii) Continuous: Decimal Numbers\n",
    "eg- Weight, Height, Speed\n",
    "\n",
    "B) Qualitative: Categorical\n",
    "\n",
    "i) Nominal: Order does not matters, Can not compare data with each other\n",
    "eg- Eye color, Gender, Blood Group\n",
    "\n",
    "ii) Ordinal: Order matters\n",
    "eg- Designation, Students Grades, Roll number\n"
   ]
  },
  {
   "cell_type": "markdown",
   "id": "d271b0ea-2d62-41ab-90e2-0fafa07f96b6",
   "metadata": {},
   "source": [
    "Q4. Categorise the following datasets with respect to quantitative and qualitative data types:\n",
    "(i) Grading in exam: A+, A, B+, B, C+, C, D, E\n",
    "(ii) Colour of mangoes: yellow, green, orange, red\n",
    "(iii) Height data of a class: [178.9, 179, 179.5, 176, 177.2, 178.3, 175.8,...]\n",
    "(iv) Number of mangoes exported by a farm: [500, 600, 478, 672, ...]"
   ]
  },
  {
   "cell_type": "raw",
   "id": "65827fbe-f975-4108-af02-c984f1617edc",
   "metadata": {},
   "source": [
    "ANS:\n",
    "\n",
    "(i) Grading in exam: A+, A, B+, B, C+, C, D, E\n",
    "Ordinal Data\n",
    "\n",
    "(ii) Colour of mangoes: yellow, green, orange, red\n",
    "Nominal Data\n",
    "\n",
    "(iii) Height data of a class: [178.9, 179, 179.5, 176, 177.2, 178.3, 175.8,...]\n",
    "Continuous Data\n",
    "\n",
    "(iv) Number of mangoes exported by a farm: [500, 600, 478, 672, ...]\n",
    "Discrete Data"
   ]
  },
  {
   "cell_type": "markdown",
   "id": "86e5c659-dc83-459d-9434-2b5338316413",
   "metadata": {},
   "source": [
    "Q5. Explain the concept of levels of measurement and give an example of a variable for each level."
   ]
  },
  {
   "cell_type": "raw",
   "id": "a47170b5-44d0-4b33-aefd-c603830a1291",
   "metadata": {},
   "source": [
    "ANS:\n",
    "Levels of measurement, also known as scales of measurement, refer to the ways in which variables can be classified based on the nature of their values. There are four levels of measurement: Nominal, Ordinal, Interval, and Ratio.\n",
    "\n",
    "1.Nominal level of measurement:\n",
    "This is the lowest level of measurement where variables are classified into categories with no intrinsic order. The numbers assigned to the categories are arbitrary and do not reflect any quantitative value.\n",
    "Examples of nominal variables includes gender, religion, car brands and marital status. For instance, in a survey, respondents may be asked to choose their gender by selecting 1 for male or 2 for female.\n",
    "\n",
    "2.Ordinal level of measurement:\n",
    "This level involves variables that can be ranked or ordered, but the differences between the values cannot be measured.\n",
    "Examples of ordinal variables includes educational level, socioeconomic status, and customer satisfaction. For instance, a customer satisfaction survey may ask respondents to rate their level of satisfaction with a product or service as excellent, good, fair, or poor.\n",
    "\n",
    "3.Interval level of measurement:\n",
    "This level involves variables where the differences between the values are meaningful and can be measured, but there is no true zero point.\n",
    "Examples of interval variables includes temperature in degrees Celsius or Fahrenheit and IQ scores. For instance, if the temperature outside is 20°C, it does not mean that there is no heat present.\n",
    "\n",
    "4.Ratio level of measurement:\n",
    "This is the highest level of measurement where variables have a true zero point, and the differences between the values are meaningful and can be measured. Examples of ratio variables includes weight, height, and temperature in Kelvin. For example, in the Kelvin temperature scale, there are no negative degrees of temperature, zero means an absolute lack of thermal energy."
   ]
  },
  {
   "cell_type": "markdown",
   "id": "16c97335-7d01-4b95-9eb3-fc805e3ff9b9",
   "metadata": {},
   "source": [
    "Q6. Why is it important to understand the level of measurement when analyzing data? Provide an\n",
    "example to illustrate your answer."
   ]
  },
  {
   "cell_type": "raw",
   "id": "cb839c77-d586-48fa-8ec3-07170b7c3a13",
   "metadata": {},
   "source": [
    "ANS:\n",
    "It is important to understand the level of measurement when analyzing data because the level of measurement determines the type of statistical analysis that can be applied to the data. Using the wrong statistical analysis based on the level of measurement can result in inaccurate conclusions and misleading results.\n",
    "For example:\n",
    "If we have a variable that is measured at the nominal level, such as political party affiliation (Republican, Democrat, Independent, etc.), we cannot compute a mean or standard deviation for this variable. Instead, we would use frequency counts or percentages to describe the distribution of the variable. If we were to apply a statistical analysis that assumes a continuous measurement scale, such as a t-test, the results would be invalid and misleading.\n",
    "\n",
    "On the other hand, if we have a variable that is measured at the ratio level, such as income, we can compute meaningful summary statistics such as mean, median, and standard deviation. However, if we were to apply a statistical analysis that assumes an ordinal or nominal level of measurement, such as a chi-square test, we would not be able to take full advantage of the information provided by the variable.\n",
    "\n",
    "Therefore, it is important to understand the level of measurement of the variables being analyzed to select appropriate statistical analyses and draw valid conclusions."
   ]
  },
  {
   "cell_type": "markdown",
   "id": "af9e4cdf-6189-4732-8351-88129396c708",
   "metadata": {},
   "source": [
    "Q7. How nominal data type is different from ordinal data type."
   ]
  },
  {
   "cell_type": "raw",
   "id": "a2a37156-0097-4228-b5d4-4b7a1571818a",
   "metadata": {},
   "source": [
    "ANS:\n",
    "Nominal and ordinal data types are two levels of measurement used in statistics that are different from each other in several ways.\n",
    "\n",
    "Nominal data is a categorical data type where variables are classified into categories with no intrinsic order. The numbers assigned to the categories are arbitrary and do not reflect any quantitative value.\n",
    "Examples of nominal variables include gender, race, religion, and marital status. Nominal data can be analyzed using frequency counts or percentages, but we cannot compute a meaningful order or rank among the categories. In other words, we cannot say that one category is \"higher\" or \"lower\" than another.\n",
    "\n",
    "On the other hand, ordinal data is also a categorical data type, but the categories can be ranked or ordered. Ordinal data has an inherent order, but the differences between the values cannot be measured.\n",
    "Examples of ordinal variables include educational level, socioeconomic status, and customer satisfaction. We can say that one category is \"higher\" or \"lower\" than another based on the rank or order, but we cannot say how much higher or lower.\n",
    "\n",
    "To illustrate the difference between nominal and ordinal data types, let's consider the example of a survey that asks respondents to rate their level of agreement with a statement on a scale of 1 to 5, where 1 represents strongly disagree and 5 represents strongly agree. The responses can be analyzed as either nominal or ordinal data.\n",
    "\n"
   ]
  },
  {
   "cell_type": "markdown",
   "id": "feb208ea-4a92-4bd7-b70c-d416e2c2e4a9",
   "metadata": {},
   "source": [
    "Q8. Which type of plot can be used to display data in terms of range?"
   ]
  },
  {
   "cell_type": "raw",
   "id": "49345074-b971-4525-aa9f-428208dfc645",
   "metadata": {},
   "source": [
    "ANS:\n",
    "A box plot, also known as a box and whisker plot, can be used to display data in terms of range. A box plot is a graphical representation of a dataset that displays the distribution of the data based on the five-number summary: the minimum value, the first quartile (Q1), the median, the third quartile (Q3), and the maximum value."
   ]
  },
  {
   "cell_type": "markdown",
   "id": "6736a6f5-5c0a-42c1-b060-c5197b0e3e76",
   "metadata": {},
   "source": [
    "Q9. Describe the difference between descriptive and inferential statistics. Give an example of each\n",
    "type of statistics and explain how they are used."
   ]
  },
  {
   "cell_type": "raw",
   "id": "051da047-0c4f-41ed-b22e-08cfde427476",
   "metadata": {},
   "source": [
    "ANS:\n",
    "Descriptive statistics and inferential statistics are two branches of statistics used to analyze data in different ways.\n",
    "\n",
    "Descriptive statistics :\n",
    "is concerned with summarizing and describing the characteristics of a dataset. It involves calculating summary statistics such as mean, median, mode, standard deviation, and range to describe the central tendency, variability, and range of the data. Descriptive statistics is useful for organizing and presenting data in a meaningful way, but it does not involve any generalization beyond the specific data being analyzed.\n",
    "\n",
    "An example of descriptive statistics would be calculating the mean and standard deviation of test scores for a group of students. These summary statistics would provide an overview of the average performance and the variability of the test scores in the group. Descriptive statistics can be used to identify patterns, trends, and outliers in the data, but it does not involve making any inferences beyond the specific data being analyzed.\n",
    "\n",
    "Inferential statistics:\n",
    "is on the other hand, is concerned with making generalizations and drawing conclusions about a population based on a sample of data. It involves using probability theory and statistical models to test hypotheses, estimate parameters, and make predictions about the population. Inferential statistics is used to make inferences beyond the specific data being analyzed and to draw conclusions about the larger population.\n",
    "\n",
    "An example of inferential statistics would be conducting a hypothesis test to compare the mean test scores of two different groups of students. By collecting a sample of test scores from each group and using inferential statistics, we can make a statement about whether the difference in mean test scores is statistically significant or due to chance. Inferential statistics can be used to test hypotheses, make predictions, and estimate parameters with a certain level of confidence.\n",
    "\n",
    "In summary, descriptive statistics is used to describe and summarize the characteristics of a dataset, while inferential statistics is used to make inferences and draw conclusions about a population based on a sample of data. Descriptive statistics is useful for organizing and presenting data, while inferential statistics is used for hypothesis testing, parameter estimation, and prediction making."
   ]
  },
  {
   "cell_type": "markdown",
   "id": "8e3c618c-7133-4488-91be-f3743bf30e8e",
   "metadata": {},
   "source": [
    "Q10. What are some common measures of central tendency and variability used in statistics? Explain how each measure can be used to describe a dataset."
   ]
  },
  {
   "cell_type": "raw",
   "id": "ebb8ea84-eb20-491c-9a50-87e99df40dd7",
   "metadata": {},
   "source": [
    "ANS:\n",
    "Measures of central tendency and variability are used in statistics to describe the distribution of a dataset. They provide a summary of the location and spread of the data, respectively. Some common measures of central tendency and variability are:\n",
    "Measures of central tendency:\n",
    "\n",
    "Mean:\n",
    "The mean is the average value of the dataset. It is calculated by adding up all the values in the dataset and dividing by the number of values. The mean is used to describe the typical value or central location of the data. However, it can be sensitive to outliers in the data.\n",
    "\n",
    "Median:\n",
    "The median is the middle value of the dataset when it is ordered from smallest to largest. It is used to describe the central location of the data and is less sensitive to outliers than the mean.\n",
    "\n",
    "Mode:\n",
    "The mode is the most common value in the dataset. It is used to describe the peak or most frequent value in the data and can be used for categorical data.\n",
    "\n",
    "Measures of variability:\n",
    "\n",
    "Range:\n",
    "The range is the difference between the maximum and minimum values in the dataset. It is used to describe the spread of the data, but it can be sensitive to outliers.\n",
    "\n",
    "Standard deviation: The standard deviation is a measure of how much the values in the dataset vary from the mean. It is used to describe the spread of the data and is more robust to outliers than the range. It provides a measure of how much the data is dispersed around the mean.\n",
    "\n",
    "Interquartile range:\n",
    "The interquartile range (IQR) is the range of the middle 50% of the data when it is ordered from smallest to largest. It is calculated by subtracting the first quartile from the third quartile. It is used to describe the spread of the data and is less sensitive to outliers than the range."
   ]
  },
  {
   "cell_type": "code",
   "execution_count": null,
   "id": "d2a64c89-7a46-412c-b66f-ec84b9811589",
   "metadata": {},
   "outputs": [],
   "source": []
  }
 ],
 "metadata": {
  "kernelspec": {
   "display_name": "Python 3 (ipykernel)",
   "language": "python",
   "name": "python3"
  },
  "language_info": {
   "codemirror_mode": {
    "name": "ipython",
    "version": 3
   },
   "file_extension": ".py",
   "mimetype": "text/x-python",
   "name": "python",
   "nbconvert_exporter": "python",
   "pygments_lexer": "ipython3",
   "version": "3.10.6"
  }
 },
 "nbformat": 4,
 "nbformat_minor": 5
}
